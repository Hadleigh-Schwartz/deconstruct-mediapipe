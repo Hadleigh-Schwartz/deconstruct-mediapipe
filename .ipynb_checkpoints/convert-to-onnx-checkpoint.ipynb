{
 "cells": [
  {
   "cell_type": "code",
   "execution_count": 1,
   "id": "35f2552a-0b3c-4ae7-9e9c-6fa2c28894c9",
   "metadata": {},
   "outputs": [
    {
     "name": "stderr",
     "output_type": "stream",
     "text": [
      "2024-03-15 15:54:02.320964: I external/local_tsl/tsl/cuda/cudart_stub.cc:32] Could not find cuda drivers on your machine, GPU will not be used.\n",
      "2024-03-15 15:54:02.323868: I external/local_tsl/tsl/cuda/cudart_stub.cc:32] Could not find cuda drivers on your machine, GPU will not be used.\n",
      "2024-03-15 15:54:02.357895: I tensorflow/core/platform/cpu_feature_guard.cc:210] This TensorFlow binary is optimized to use available CPU instructions in performance-critical operations.\n",
      "To enable the following instructions: AVX2 FMA, in other operations, rebuild TensorFlow with the appropriate compiler flags.\n",
      "2024-03-15 15:54:03.170878: W tensorflow/compiler/tf2tensorrt/utils/py_utils.cc:38] TF-TRT Warning: Could not find TensorRT\n",
      "2024-03-15 15:54:04.119420: I external/local_xla/xla/stream_executor/cuda/cuda_executor.cc:998] successful NUMA node read from SysFS had negative value (-1), but there must be at least one NUMA node, so returning NUMA node zero. See more at https://github.com/torvalds/linux/blob/v6.0/Documentation/ABI/testing/sysfs-bus-pci#L344-L355\n",
      "2024-03-15 15:54:04.119849: W tensorflow/core/common_runtime/gpu/gpu_device.cc:2251] Cannot dlopen some GPU libraries. Please make sure the missing libraries mentioned above are installed properly if you would like to use GPU. Follow the guide at https://www.tensorflow.org/install/gpu for how to download and setup the required libraries for your platform.\n",
      "Skipping registering GPU devices...\n",
      "INFO: Created TensorFlow Lite XNNPACK delegate for CPU.\n"
     ]
    }
   ],
   "source": [
    "import tf2onnx\n",
    "import onnx\n",
    "\n",
    "tflite_path = './face_blendshapes.tflite'\n",
    "onnx_path = './face_blendshapes.onnx'\n",
    "model_proto, external_tensor_storage = tf2onnx.convert.from_tflite(tflite_path)"
   ]
  },
  {
   "cell_type": "code",
   "execution_count": 2,
   "id": "8c47576b-db3a-49f9-a808-12dd7df7096c",
   "metadata": {},
   "outputs": [
    {
     "data": {
      "text/plain": [
       "'./face_blendshapes.onnx'"
      ]
     },
     "execution_count": 2,
     "metadata": {},
     "output_type": "execute_result"
    }
   ],
   "source": [
    "checker = onnx.checker.check_model(model_proto)\n",
    "tf2onnx.utils.save_onnx_model(\"./\", \"face_blendshapes\", feed_dict={}, model_proto=model_proto)"
   ]
  },
  {
   "cell_type": "code",
   "execution_count": 6,
   "id": "95611441-513e-4599-b2e6-6240333300d2",
   "metadata": {},
   "outputs": [
    {
     "data": {
      "text/plain": [
       "(['serving_default_input_points:0'], ['StatefulPartitionedCall:0'])"
      ]
     },
     "execution_count": 6,
     "metadata": {},
     "output_type": "execute_result"
    }
   ],
   "source": [
    "input_names = [n.name for n in model_proto.graph.input]\n",
    "output_names = [n.name for n in model_proto.graph.output]\n",
    "input_names, output_names"
   ]
  },
  {
   "cell_type": "code",
   "execution_count": 31,
   "id": "9886f611-b39e-4939-9d31-e8962eb9ed42",
   "metadata": {},
   "outputs": [
    {
     "name": "stdout",
     "output_type": "stream",
     "text": [
      "ONNX Predicted: [7.6285005e-04 4.9061477e-03 8.7123185e-02 4.3887198e-01 2.9378951e-02\n",
      " 1.4465982e-01 5.3700805e-03 4.0337443e-04 1.0133058e-02 8.5712278e-01\n",
      " 7.4689448e-02 2.8887242e-02 6.7468882e-01 6.3830113e-01 8.4726673e-01\n",
      " 7.2923034e-02 9.2813671e-03 6.9112951e-01 7.8132570e-02 5.3467321e-01\n",
      " 2.1962306e-01 1.5940279e-02 1.8095025e-01 1.3648272e-03 1.0184482e-01\n",
      " 4.2790303e-01 1.3330060e-01 1.9261819e-01 1.7806107e-01 6.2876940e-04\n",
      " 9.7129643e-03 2.9940277e-02 2.0322031e-01 6.4029396e-03 1.8272266e-01\n",
      " 1.0095155e-01 4.8381537e-02 1.9199252e-02 2.9089352e-01 3.3252406e-01\n",
      " 9.1718972e-02 2.3216301e-01 6.0494810e-02 8.4347165e-01 2.8687686e-01\n",
      " 2.7634490e-01 3.6397648e-01 5.8880192e-01 1.1849299e-01 1.7025155e-01\n",
      " 8.8524818e-04 2.8356910e-04]\n"
     ]
    }
   ],
   "source": [
    "import numpy as np\n",
    "import onnxruntime as rt\n",
    "\n",
    "x = np.random.rand(1, 146, 2).astype('float32') * 0.8 + 0.1\n",
    "\n",
    "providers = ['CPUExecutionProvider']\n",
    "m = rt.InferenceSession(onnx_path, providers=providers)\n",
    "onnx_pred = m.run(output_names, {input_names[0]: x})\n",
    "\n",
    "print('ONNX Predicted:', onnx_pred[0])"
   ]
  },
  {
   "cell_type": "code",
   "execution_count": 42,
   "id": "36dcf221-5e36-4a54-a7c3-89cfd52dff3a",
   "metadata": {},
   "outputs": [
    {
     "data": {
      "text/plain": [
       "[(6,\n",
       "  input: \"model_1/tf.math.subtract/Sub\"\n",
       "  input: \"model_1/tf.math.reduce_mean_1/Mean\"\n",
       "  output: \"model_1/tf.math.truediv_1/truediv\"\n",
       "  name: \"model_1/tf.math.truediv_1/truediv\"\n",
       "  op_type: \"Div\"),\n",
       " (7,\n",
       "  input: \"model_1/tf.math.truediv_1/truediv\"\n",
       "  input: \"const_fold_opt__862\"\n",
       "  output: \"model_1/tf.__operators__.getitem_2/strided_slice2\"\n",
       "  name: \"model_1/tf.__operators__.getitem_2/strided_slice2\"\n",
       "  op_type: \"Reshape\"),\n",
       " (9,\n",
       "  input: \"model_1/tf.__operators__.getitem_2/strided_slice3\"\n",
       "  input: \"const_fold_opt__764\"\n",
       "  output: \"model_1/GhumMarkerPoserMlpMixerGeneral/tf.math.truediv/truediv;model_1/GhumMarkerPoserMlpMixerGeneral/tf.math.truediv/truediv/y1\"\n",
       "  name: \"model_1/GhumMarkerPoserMlpMixerGeneral/tf.math.truediv/truediv;model_1/GhumMarkerPoserMlpMixerGeneral/tf.math.truediv/truediv/y1\"\n",
       "  op_type: \"Mul\"),\n",
       " (10,\n",
       "  input: \"model_1/GhumMarkerPoserMlpMixerGeneral/tf.math.truediv/truediv;model_1/GhumMarkerPoserMlpMixerGeneral/tf.math.truediv/truediv/y1\"\n",
       "  input: \"new_shape__872\"\n",
       "  output: \"model_1/GhumMarkerPoserMlpMixerGeneral/conv2d/BiasAdd;model_1/GhumMarkerPoserMlpMixerGeneral/conv2d/Conv2D;model_1/GhumMarkerPoserMlpMixerGeneral/conv2d/BiasAdd/ReadVariableOp__475:0\"\n",
       "  name: \"model_1/GhumMarkerPoserMlpMixerGeneral/conv2d/BiasAdd;model_1/GhumMarkerPoserMlpMixerGeneral/conv2d/Conv2D;model_1/GhumMarkerPoserMlpMixerGeneral/conv2d/BiasAdd/ReadVariableOp__475\"\n",
       "  op_type: \"Reshape\"\n",
       "  domain: \"\")]"
      ]
     },
     "execution_count": 42,
     "metadata": {},
     "output_type": "execute_result"
    }
   ],
   "source": [
    "[(i, n) for i, n in enumerate(model_proto.graph.node) if v[0] in str(n)]"
   ]
  },
  {
   "cell_type": "code",
   "execution_count": 54,
   "id": "ea003c6b-2bbb-42d1-820c-bf5c315a6541",
   "metadata": {},
   "outputs": [
    {
     "data": {
      "text/plain": [
       "(1, 64, 1, 97)"
      ]
     },
     "execution_count": 54,
     "metadata": {},
     "output_type": "execute_result"
    }
   ],
   "source": [
    "import onnx\n",
    "from onnx import helper\n",
    "\n",
    "modified_model = onnx.load(onnx_path)\n",
    "intermediate_layer_value_info = helper.ValueInfoProto()\n",
    "v = ['model_1/GhumMarkerPoserMlpMixerGeneral/MLPMixer/AddExtraTokens/concat']\n",
    "intermediate_layer_value_info.name = v[0]\n",
    "modified_model.graph.output.append(intermediate_layer_value_info)\n",
    "# checker = onnx.checker.check_model(modified_model)\n",
    "# tf2onnx.utils.save_onnx_model(\"./\", \"face_blendshapes\", feed_dict={}, model_proto=model_proto)\n",
    "modified_model_path = '/tmp/modified.onnx'\n",
    "onnx.save(modified_model, modified_model_path)\n",
    "\n",
    "m = rt.InferenceSession(modified_model_path, providers=providers)\n",
    "\n",
    "outs = m.run(v,  {input_names[0]: x})\n",
    "outs[0].shape"
   ]
  },
  {
   "cell_type": "code",
   "execution_count": null,
   "id": "7d61daf2-47c8-4d67-be9c-da2a7b50c334",
   "metadata": {},
   "outputs": [],
   "source": []
  },
  {
   "cell_type": "code",
   "execution_count": null,
   "id": "a7a3c55c-34e3-4411-a55f-5ca0cbf3edde",
   "metadata": {},
   "outputs": [],
   "source": []
  },
  {
   "cell_type": "code",
   "execution_count": 56,
   "id": "03e73794-aae2-403c-99e8-4dadb9c97a77",
   "metadata": {},
   "outputs": [
    {
     "ename": "TypeError",
     "evalue": "can only concatenate str (not \"int\") to str",
     "output_type": "error",
     "traceback": [
      "\u001b[0;31m---------------------------------------------------------------------------\u001b[0m",
      "\u001b[0;31mTypeError\u001b[0m                                 Traceback (most recent call last)",
      "Cell \u001b[0;32mIn[56], line 15\u001b[0m\n\u001b[1;32m     13\u001b[0m     byte \u001b[38;5;241m=\u001b[39m data[i]\n\u001b[1;32m     14\u001b[0m     \u001b[38;5;28;01mif\u001b[39;00m byte \u001b[38;5;241m!=\u001b[39m \u001b[38;5;124m'\u001b[39m\u001b[38;5;130;01m\\xcc\u001b[39;00m\u001b[38;5;124m'\u001b[39m: \u001b[38;5;66;03m# yuck!\u001b[39;00m\n\u001b[0;32m---> 15\u001b[0m         \u001b[43mstring\u001b[49m\u001b[43m \u001b[49m\u001b[38;5;241;43m+\u001b[39;49m\u001b[38;5;241;43m=\u001b[39;49m\u001b[43m \u001b[49m\u001b[43mdata\u001b[49m\u001b[43m[\u001b[49m\u001b[43mi\u001b[49m\u001b[43m]\u001b[49m\n\u001b[1;32m     17\u001b[0m \u001b[38;5;28;01mif\u001b[39;00m \u001b[38;5;129;01mnot\u001b[39;00m eof:\n\u001b[1;32m     18\u001b[0m     foo_bar \u001b[38;5;241m=\u001b[39m FooBar()\n",
      "\u001b[0;31mTypeError\u001b[0m: can only concatenate str (not \"int\") to str"
     ]
    }
   ],
   "source": [
    "message_length = 512\n",
    "\n",
    "file = open('geometry_pipeline_metadata_landmarks.binarypb', 'rb')\n",
    "\n",
    "eof = False\n",
    "while not eof:\n",
    "\n",
    "    data = file.read(message_length)\n",
    "    eof = not data\n",
    "\n",
    "    string = ''\n",
    "    for i in range(0, len(data)):\n",
    "        byte = data[i]\n",
    "        if byte != '\\xcc': # yuck!\n",
    "            string += data[i]\n",
    "\n",
    "    if not eof:\n",
    "        foo_bar = FooBar()\n",
    "        foo_bar.ParseFromString(string)"
   ]
  },
  {
   "cell_type": "code",
   "execution_count": 65,
   "id": "6ca7e158-c3a2-4b9a-b166-18070c595e8c",
   "metadata": {},
   "outputs": [
    {
     "data": {
      "text/plain": [
       "10"
      ]
     },
     "execution_count": 65,
     "metadata": {},
     "output_type": "execute_result"
    }
   ],
   "source": [
    "data[0]"
   ]
  },
  {
   "cell_type": "code",
   "execution_count": 57,
   "id": "e2209303-f45b-43f1-bf63-d8244f954d04",
   "metadata": {},
   "outputs": [
    {
     "data": {
      "text/plain": [
       "b'\\n\\xea\\x94\\x01\\x08\\x00\\x10\\x00\\x1d\\x00\\x00\\x00\\x00\\x1d\\x86\\x02Z\\xc0\\x1d\\x1fX\\xbf@\\x1d\\xfc\\xfc\\xff>\\x1dx\\x0c\\'?\\x1d\\x00\\x00\\x00\\x00\\x1d\\x1d=\\x90\\xbf\\x1d&8\\xef@\\x1d\\xb4\\x01\\x00?\\x1d\\x1c(\\x0c?\\x1d\\x00\\x00\\x00\\x00\\x1d\\x92\\xb2\\x05\\xc0\\x1dS\\xdd\\xc1@\\x1d\\x98\\xfc\\xff>\\x1d\\r5\\x1a?\\x1d\\xf9\\x87\\xed\\xbe\\x1dG\\x92t?\\x1dPF\\xd4@\\x1d\\x84\\xd7\\xf6>\\x1d;\\xa7\\xf1>\\x1d\\x00\\x00\\x00\\x00\\x1d\\x9e$\\xed\\xbe\\x1dC\\xc5\\xf2@\\x1d\\xe5\\t\\x00?\\x1d\\xb2\\xf3\\x06?\\x1d\\x00\\x00\\x00\\x00\\x1d\\xf88\\xbb>\\x1d\\x97\\xc5\\xe7@\\x1d4\\xf4\\xff>\\x1d\\x04\\x1b\\xff>\\x1d\\x00\\x00\\x00\\x00\\x1d\\xcfI\\x1e@\\x1do<\\xb9@\\x1d{\\xc1\\xff>\\x1d\\x00X\\xcd>\\x1d=\\x19\\x88\\xc0\\x1d\\'\\xf8$@\\x1d\\xa3\\xe6Q@\\x1d\"U\\x94>\\x1d\\x80\\xf3\\xc2>\\x1d\\x00\\x00\\x00\\x00\\x1d\\xfe\\x9b\\x80@\\x1d\\xc9\\x1c\\xa9@\\x1d\\x1a\\xfa\\xff>\\x1d\\xa1\\xf2\\x9f>\\x1d\\x00\\x00\\x00\\x00\\x1d\\xf1Y\\x9c@\\x1d\\tT\\xac@\\x1dL\\xfe\\xff>\\x1d\\xd32\\x8a>\\x1d\\x00\\x00\\x00\\x00\\x1d>0\\x04A\\x1d\\xbch\\x8f@\\x1d\\x82\\x01\\x00?\\x1d\\x08=\\xdb=\\x1d\\x00\\x00\\x00\\x00\\x1dd<m\\xc0\\x1du\\xad\\xbb@\\x1d\\x82\\x01\\x00?\\x1dP\\x8e*?\\x1d\\x00\\x00\\x00\\x00\\x1dr\\xc5z\\xc0\\x1d\\xc58\\xb2@\\x1d\\x0c\\x01\\x00?\\x1d\\xa0\\xe1-?\\x1d\\x00\\x00\\x00\\x00\\x1d\\xd7\\xa4\\x7f\\xc0\\x1d\\xff\\x05\\xa7@\\x1d\\x82\\x01\\x00?\\x1d\\xb8=1?\\x1d\\x00\\x00\\x00\\x00\\x1dW[\\x91\\xc0\\x1d\\xbf\\xf3\\xac@\\x1d\\xfc\\xfc\\xff>\\x1d\\xbd\\xfd1?\\x1d\\x00\\x00\\x00\\x00\\x1d\\xc4\\xdb\\x97\\xc0\\x1dP\\xf1\\xb0@\\x1d\\xfc\\xfc\\xff>\\x1d\\x17\\xb84?\\x1d\\x00\\x00\\x00\\x00\\x1dK\\xa0\\xa0\\xc0\\x1d\\x10?\\xb3@\\x1d\\xfc\\xfc\\xff>\\x1d\\x9e)8?\\x1d\\x00\\x00\\x00\\x00\\x1d\\x16\\xaf\\xab\\xc0\\x1dU\"\\xb1@\\x1d\\xfc\\xfc\\xff>\\x1dG\\xad<?\\x1d\\x00\\x00\\x00\\x00\\x1d\\xb8\\xc9\\xc4\\xc0\\x1d\\xaeH\\xa2@\\x1d\\xce\\xfb\\xff>\\x1d\\xee\\x07H?\\x1d\\x00\\x00\\x00\\x00\\x1d\\xe2#\\xc0\\xbf\\x1d\\x1c\\x97\\xe3@\\x1d\\xe2\\xe7\\xff>\\x1d\\x86\\x1f\\x10?\\x1d\\xd8\\x0b\\xd5'"
      ]
     },
     "execution_count": 57,
     "metadata": {},
     "output_type": "execute_result"
    }
   ],
   "source": [
    "data"
   ]
  },
  {
   "cell_type": "code",
   "execution_count": null,
   "id": "9c0371f6-136b-44be-9f57-42ed5ffe9ebe",
   "metadata": {},
   "outputs": [],
   "source": []
  }
 ],
 "metadata": {
  "kernelspec": {
   "display_name": "Python 3 (ipykernel)",
   "language": "python",
   "name": "python3"
  },
  "language_info": {
   "codemirror_mode": {
    "name": "ipython",
    "version": 3
   },
   "file_extension": ".py",
   "mimetype": "text/x-python",
   "name": "python",
   "nbconvert_exporter": "python",
   "pygments_lexer": "ipython3",
   "version": "3.11.5"
  }
 },
 "nbformat": 4,
 "nbformat_minor": 5
}
