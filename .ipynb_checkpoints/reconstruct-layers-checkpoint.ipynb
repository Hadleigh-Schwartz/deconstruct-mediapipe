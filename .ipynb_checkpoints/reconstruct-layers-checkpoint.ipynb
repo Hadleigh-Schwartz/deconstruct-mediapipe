{
 "cells": [
  {
   "cell_type": "code",
   "execution_count": 1,
   "id": "082ca46d-fca5-4f94-8507-053cf680bbf7",
   "metadata": {},
   "outputs": [],
   "source": [
    "%load_ext autoreload\n",
    "%autoreload 2\n",
    "from onnx_back_to_pytorch import *"
   ]
  },
  {
   "cell_type": "code",
   "execution_count": 2,
   "id": "234af157-8336-40aa-9536-948d3f6a578b",
   "metadata": {},
   "outputs": [],
   "source": [
    "from blendshape_info import BLENDSHAPE_MODEL_LANDMARKS_SUBSET, BLENDSHAPE_NAMES, parse_prototxt\n",
    "\n",
    "path = 'face_blendshapes_in_landmarks.prototxt'\n",
    "test_lmks_in = parse_prototxt(path)[:, :2]\n",
    "path = 'face_blendshapes_out.prototxt'\n",
    "test_blshps_out = parse_prototxt(path)"
   ]
  },
  {
   "cell_type": "code",
   "execution_count": 3,
   "id": "36dcf221-5e36-4a54-a7c3-89cfd52dff3a",
   "metadata": {},
   "outputs": [
    {
     "data": {
      "text/plain": [
       "(1, 96, 1, 2)"
      ]
     },
     "execution_count": 3,
     "metadata": {},
     "output_type": "execute_result"
    }
   ],
   "source": [
    "import onnx\n",
    "from onnx import helper\n",
    "import onnxruntime as rt\n",
    "\n",
    "onnx_path = './face_blendshapes.onnx'\n",
    "modified_model = onnx.load(onnx_path)\n",
    "intermediate_layer_value_info = helper.ValueInfoProto()\n",
    "\n",
    "v = ['concat']\n",
    "v = ['model_1/tf.__operators__.getitem_2/strided_slice3']\n",
    "# v = ['model_1/tf.compat.v1.norm/norm/mul']\n",
    "# [(i, n) for i, n in enumerate(modified_model.graph.node) if v[0] in str(n)]\n",
    "# v = ['model_1/tf.compat.v1.norm/norm/Sqrt']\n",
    "v = ['model_1/GhumMarkerPoserMlpMixerGeneral/conv2d/BiasAdd;model_1/GhumMarkerPoserMlpMixerGeneral/conv2d/Conv2D;model_1/GhumMarkerPoserMlpMixerGeneral/conv2d/BiasAdd/ReadVariableOp']\n",
    "\n",
    "\n",
    "modified_model_path = '/tmp/modified.onnx'\n",
    "intermediate_layer_value_info = helper.ValueInfoProto()\n",
    "intermediate_layer_value_info.name = v[0]\n",
    "modified_model.graph.output.append(intermediate_layer_value_info)\n",
    "onnx.save(modified_model, modified_model_path)\n",
    "\n",
    "modified_model = onnx.load(modified_model_path)\n",
    "\n",
    "providers = ['CPUExecutionProvider']\n",
    "m = rt.InferenceSession(modified_model_path, providers=providers)\n",
    "input_names = [n.name for n in modified_model.graph.input]\n",
    "\n",
    "xx = test_lmks_in[None, BLENDSHAPE_MODEL_LANDMARKS_SUBSET ]\n",
    "outs = m.run(v,  {input_names[0]: xx})\n",
    "outs[0].shape"
   ]
  },
  {
   "cell_type": "code",
   "execution_count": 4,
   "id": "ea31d8ab-d322-4177-87fb-d80d86439013",
   "metadata": {},
   "outputs": [
    {
     "data": {
      "text/plain": [
       "((96, 146, 1, 1), (96,))"
      ]
     },
     "execution_count": 4,
     "metadata": {},
     "output_type": "execute_result"
    }
   ],
   "source": [
    "w, b = conv_node_to_w_b(modified_model, modified_model.graph.node[11])\n",
    "w.shape, b.shape\n"
   ]
  },
  {
   "cell_type": "code",
   "execution_count": null,
   "id": "aca67a78-cc78-4558-8b4e-c6e05df3bf08",
   "metadata": {},
   "outputs": [],
   "source": []
  },
  {
   "cell_type": "code",
   "execution_count": 7,
   "id": "6ada3877-b9a3-421c-ac48-0930c8b2a1a5",
   "metadata": {},
   "outputs": [
    {
     "name": "stdout",
     "output_type": "stream",
     "text": [
      "Conv2d(146, 96, kernel_size=(1, 1), stride=(1, 1))\n",
      "torch: (1, 96, 1, 2)\n",
      "onnx : (1, 96, 1, 2)\n"
     ]
    },
    {
     "name": "stderr",
     "output_type": "stream",
     "text": [
      "/home/liam-schoneveld/deconstruct-mediapipe/onnx_back_to_pytorch.py:19: UserWarning: The given NumPy array is not writable, and PyTorch does not support non-writable tensors. This means writing to this tensor will result in undefined behavior. You may want to copy the array to protect its data or make it writable before converting it to a tensor. This type of warning will be suppressed for the rest of this program. (Triggered internally at ../torch/csrc/utils/tensor_numpy.cpp:206.)\n",
      "  w, b = [torch.from_numpy(_).float() for _ in [w, b]]\n"
     ]
    },
    {
     "data": {
      "text/plain": [
       "1.15484e-06"
      ]
     },
     "execution_count": 7,
     "metadata": {},
     "output_type": "execute_result"
    }
   ],
   "source": [
    "import torch\n",
    "import numpy as np\n",
    "import torch.nn as nn\n",
    "import torch.nn.functional as F\n",
    "\n",
    "class MLPMixer(nn.Module):\n",
    "    def __init__(self, num_patches, embedding_dim, num_blocks, dropout_rate):\n",
    "        super().__init__()\n",
    "        self.conv1 = nn.Conv2d(146, 96, kernel_size=1)\n",
    "        print(self.conv1)\n",
    "        # self.mlpmixer_blocks = nn.Sequential(\n",
    "        #     *[MLPMixerLayer(num_patches, embedding_dim, dropout_rate) for _ in range(num_blocks)]\n",
    "        # )\n",
    "\n",
    "    def forward(self, x):\n",
    "        x = x - x.mean(1, keepdim=True)\n",
    "        x = x / x.norm(dim=2, keepdim=True).mean(1, keepdim=True)\n",
    "        x = x.unsqueeze(-2) * 0.5\n",
    "        x = self.conv1(x)\n",
    "        return x\n",
    "        return self.mlpmixer_blocks(x)\n",
    "\n",
    "m = MLPMixer(146, 256, 1, 0.0)\n",
    "m.load_state_dict(get_state_dict(modified_model))\n",
    "xx_tch = torch.from_numpy(xx)\n",
    "tch_out = m(xx_tch).detach().numpy()\n",
    "onnx_out = outs[0]\n",
    "# print(tch_out[:5])\n",
    "# print(onnx_out[:5])\n",
    "print(\"torch:\", tch_out.shape)\n",
    "print(\"onnx :\", onnx_out.shape)\n",
    "np.abs(tch_out - onnx_out).max()"
   ]
  },
  {
   "cell_type": "code",
   "execution_count": 10,
   "id": "7c09a311-4817-444d-954c-50629b669d6d",
   "metadata": {},
   "outputs": [
    {
     "data": {
      "text/plain": [
       "odict_keys(['conv1.weight', 'conv1.bias'])"
      ]
     },
     "execution_count": 10,
     "metadata": {},
     "output_type": "execute_result"
    }
   ],
   "source": [
    "m.state_dict().keys()"
   ]
  },
  {
   "cell_type": "code",
   "execution_count": 10,
   "id": "2dec119c-1c57-4b62-a4d1-b95a45c5a7b5",
   "metadata": {},
   "outputs": [],
   "source": [
    "import torch\n",
    "import torch.nn as nn\n",
    "\n",
    "class MLPMixerLayer(nn.Module):\n",
    "    def __init__(self, num_patches, hidden_units, dropout_rate):\n",
    "        super().__init__()\n",
    "\n",
    "        self.mlp1 = nn.Sequential(\n",
    "            nn.Linear(num_patches, num_patches),\n",
    "            nn.GELU(),\n",
    "            nn.Dropout(dropout_rate),\n",
    "            nn.Linear(num_patches, num_patches)\n",
    "        )\n",
    "\n",
    "        self.mlp2 = nn.Sequential(\n",
    "            nn.Linear(num_patches, num_patches),\n",
    "            nn.GELU(),\n",
    "            nn.Dropout(dropout_rate),\n",
    "            nn.Linear(num_patches, hidden_units)\n",
    "        )\n",
    "\n",
    "        self.norm1 = nn.LayerNorm(num_patches)\n",
    "        self.norm2 = nn.LayerNorm(hidden_units)\n",
    "\n",
    "    def forward(self, x):\n",
    "        # Apply layer normalization\n",
    "        x = self.norm1(x)\n",
    "        return x\n",
    "\n",
    "        # Transpose inputs from [batch_size, num_patches, hidden_units] to [batch_size, hidden_units, num_patches]\n",
    "        x_channels = x.transpose(1, 2)\n",
    "\n",
    "        # Apply mlp1 on each channel independently\n",
    "        mlp1_outputs = self.mlp1(x_channels)\n",
    "\n",
    "        # Transpose mlp1_outputs from [batch_size, hidden_units, num_patches] to [batch_size, num_patches, hidden_units]\n",
    "        mlp1_outputs = mlp1_outputs.transpose(1, 2)\n",
    "\n",
    "        # Add skip connection\n",
    "        x = mlp1_outputs + x\n",
    "\n",
    "        # Apply layer normalization\n",
    "        x = self.norm2(x)\n",
    "\n",
    "        # Apply mlp2 on each patch independently\n",
    "        mlp2_outputs = self.mlp2(x)\n",
    "\n",
    "        # Add skip connection\n",
    "        x = mlp2_outputs + x\n",
    "\n",
    "        return x"
   ]
  },
  {
   "cell_type": "code",
   "execution_count": null,
   "id": "c18876ed-e9e2-49fc-bbee-716fc0e8f09c",
   "metadata": {},
   "outputs": [],
   "source": [
    "class MLPMixerLayer(layers.Layer):\n",
    "    def __init__(self, num_patches, hidden_units, dropout_rate, *args, **kwargs):\n",
    "        super().__init__(*args, **kwargs)\n",
    "\n",
    "        self.mlp1 = keras.Sequential(\n",
    "            [\n",
    "                layers.Dense(units=num_patches, activation=\"gelu\"),\n",
    "                layers.Dense(units=num_patches),\n",
    "                layers.Dropout(rate=dropout_rate),\n",
    "            ]\n",
    "        )\n",
    "        self.mlp2 = keras.Sequential(\n",
    "            [\n",
    "                layers.Dense(units=num_patches, activation=\"gelu\"),\n",
    "                layers.Dense(units=hidden_units),\n",
    "                layers.Dropout(rate=dropout_rate),\n",
    "            ]\n",
    "        )\n",
    "        self.normalize = layers.LayerNormalization(epsilon=1e-6)\n",
    "\n",
    "    def build(self, input_shape):\n",
    "        return super().build(input_shape)\n",
    "\n",
    "    def call(self, inputs):\n",
    "        # Apply layer normalization.\n",
    "        x = self.normalize(inputs)\n",
    "        # Transpose inputs from [num_batches, num_patches, hidden_units] to [num_batches, hidden_units, num_patches].\n",
    "        x_channels = keras.ops.transpose(x, axes=(0, 2, 1))\n",
    "        # Apply mlp1 on each channel independently.\n",
    "        mlp1_outputs = self.mlp1(x_channels)\n",
    "        # Transpose mlp1_outputs from [num_batches, hidden_dim, num_patches] to [num_batches, num_patches, hidden_units].\n",
    "        mlp1_outputs = keras.ops.transpose(mlp1_outputs, axes=(0, 2, 1))\n",
    "        # Add skip connection.\n",
    "        x = mlp1_outputs + inputs\n",
    "        # Apply layer normalization.\n",
    "        x_patches = self.normalize(x)\n",
    "        # Apply mlp2 on each patch independtenly.\n",
    "        mlp2_outputs = self.mlp2(x_patches)\n",
    "        # Add skip connection.\n",
    "        x = x + mlp2_outputs\n",
    "        return x"
   ]
  },
  {
   "cell_type": "code",
   "execution_count": 9,
   "id": "53e59441-243c-4086-9138-da6c91207b9e",
   "metadata": {},
   "outputs": [
    {
     "data": {
      "text/plain": [
       "array([[[-7.8364210e-03,  5.2202779e-01],\n",
       "        [-1.6291156e-02,  1.8730882e-01],\n",
       "        [-1.5030063e-02,  7.0599332e-02],\n",
       "        [-1.2008926e-02, -7.5391263e-02],\n",
       "        [-4.7077838e-04, -4.2189065e-01],\n",
       "        [-8.6913472e-01, -4.1188234e-01],\n",
       "        [ 2.1210976e-03, -6.1039013e-01],\n",
       "        [ 1.2604257e-02, -1.3921611e+00],\n",
       "        [-7.3752808e-03,  6.0468572e-01],\n",
       "        [-5.8717555e-03,  8.5883045e-01],\n",
       "        [-3.8677966e-03,  1.0159603e+00],\n",
       "        [-1.4086438e+00, -8.0137044e-01],\n",
       "        [-9.1860276e-01, -4.2213586e-01],\n",
       "        [-2.2952002e-01,  5.0188720e-01],\n",
       "        [-4.3766263e-01,  5.2515978e-01],\n",
       "        [-5.7792866e-01,  5.5373752e-01],\n",
       "        [-1.1117977e+00, -5.6165361e-01],\n",
       "        [-7.7112907e-01, -6.6752630e-01],\n",
       "        [-9.6910733e-01, -6.3076907e-01],\n",
       "        [-1.2826242e+00, -1.0089972e+00],\n",
       "        [-2.2183782e-01, -6.0055178e-01],\n",
       "        [-1.2848710e+00,  7.6320124e-01],\n",
       "        [-7.4208647e-01,  6.2553453e-01],\n",
       "        [-1.0427856e+00, -6.9662672e-01],\n",
       "        [-5.2153498e-01, -6.6200024e-01],\n",
       "        [-5.4489893e-01, -7.5617218e-01],\n",
       "        [-7.4261248e-01, -1.3127171e+00],\n",
       "        [-1.1921887e+00, -6.1094761e-01],\n",
       "        [-6.8808299e-01,  6.3091475e-01],\n",
       "        [-5.0131005e-01,  5.9802735e-01],\n",
       "        [-3.7016451e-01,  5.9059942e-01],\n",
       "        [-2.0517115e-01,  5.9719813e-01],\n",
       "        [-2.1586560e-01,  1.0020816e+00],\n",
       "        [-1.9106188e-01,  8.4909719e-01],\n",
       "        [-4.8005641e-01,  7.8175402e-01],\n",
       "        [-5.4853654e-01,  8.5531074e-01],\n",
       "        [-1.4487720e+00,  2.0142308e-01],\n",
       "        [-5.7547283e-01,  7.2541332e-01],\n",
       "        [-1.0670670e+00, -1.1831908e+00],\n",
       "        [-8.1598496e-01, -7.5554872e-01],\n",
       "        [-2.6309615e-01, -7.4190724e-01],\n",
       "        [-3.9892870e-01, -1.3782966e+00],\n",
       "        [-1.4815143e+00, -3.1435373e-01],\n",
       "        [-1.3900837e+00,  4.7354355e-01],\n",
       "        [-3.4398627e-01, -4.1308469e-01],\n",
       "        [-9.9874336e-01,  1.1711586e+00],\n",
       "        [-7.4909812e-01, -3.9652625e-01],\n",
       "        [-6.4416236e-01, -3.9437643e-01],\n",
       "        [-6.5661943e-01,  7.4929214e-01],\n",
       "        [-2.9850835e-01,  1.6900456e+00],\n",
       "        [-6.7694151e-01,  1.4826422e+00],\n",
       "        [-8.2403046e-01,  1.3481096e+00],\n",
       "        [-1.6338976e-02,  1.7150421e+00],\n",
       "        [-5.3966361e-01, -4.0044484e-01],\n",
       "        [-4.3954909e-01, -4.0694156e-01],\n",
       "        [-3.7192678e-01, -4.0858522e-01],\n",
       "        [-4.6468496e-01, -4.7286814e-01],\n",
       "        [-5.7297361e-01, -4.9646211e-01],\n",
       "        [-6.7241389e-01, -4.9948826e-01],\n",
       "        [-7.7479666e-01, -4.8333037e-01],\n",
       "        [-8.4244269e-01, -4.6028966e-01],\n",
       "        [-1.4660143e+00, -5.8372068e-01],\n",
       "        [-8.1813645e-01, -4.0405887e-01],\n",
       "        [ 2.3713144e-03, -5.2673113e-01],\n",
       "        [-1.1445608e+00,  9.9482679e-01],\n",
       "        [-3.8413218e-01, -4.3807206e-01],\n",
       "        [-5.1006132e-01,  1.6024030e+00],\n",
       "        [-3.4701520e-01,  8.2484096e-01],\n",
       "        [-4.0043667e-01,  9.4967729e-01],\n",
       "        [-6.7795497e-01,  5.8563328e-01],\n",
       "        [-6.1396986e-01,  6.0942870e-01],\n",
       "        [-7.5843506e-03, -1.9352865e-01],\n",
       "        [-6.8715108e-03, -3.0360258e-01],\n",
       "        [-1.4664627e+00, -5.7820853e-02],\n",
       "        [-8.8456994e-01, -4.4022876e-01],\n",
       "        [ 8.7934434e-01, -4.2541331e-01],\n",
       "        [ 1.3917551e+00, -8.0823952e-01],\n",
       "        [ 9.2843056e-01, -4.3704024e-01],\n",
       "        [ 2.1413669e-01,  4.9006730e-01],\n",
       "        [ 4.2594174e-01,  4.9937353e-01],\n",
       "        [ 5.7820332e-01,  5.1930100e-01],\n",
       "        [ 1.1116879e+00, -5.7423139e-01],\n",
       "        [ 7.7727658e-01, -6.7941695e-01],\n",
       "        [ 9.7281569e-01, -6.4336812e-01],\n",
       "        [ 1.2734978e+00, -1.0141106e+00],\n",
       "        [ 2.3692237e-01, -6.0745573e-01],\n",
       "        [ 1.2814543e+00,  7.5270033e-01],\n",
       "        [ 7.5461251e-01,  5.8222181e-01],\n",
       "        [ 1.0456699e+00, -7.0742846e-01],\n",
       "        [ 5.3117371e-01, -6.7019933e-01],\n",
       "        [ 5.5459470e-01, -7.6345778e-01],\n",
       "        [ 7.4756050e-01, -1.3140877e+00],\n",
       "        [ 1.1872897e+00, -6.2181592e-01],\n",
       "        [ 7.0497990e-01,  5.9192204e-01],\n",
       "        [ 5.0205731e-01,  5.6750572e-01],\n",
       "        [ 3.6719602e-01,  5.7140428e-01],\n",
       "        [ 1.9756159e-01,  5.8838975e-01],\n",
       "        [ 2.1812978e-01,  9.8877603e-01],\n",
       "        [ 1.8643269e-01,  8.4196728e-01],\n",
       "        [ 4.8592708e-01,  7.5298351e-01],\n",
       "        [ 5.5567271e-01,  8.1900001e-01],\n",
       "        [ 1.4184271e+00,  1.9484720e-01],\n",
       "        [ 5.8778644e-01,  6.9260454e-01],\n",
       "        [ 1.0643691e+00, -1.1863372e+00],\n",
       "        [ 8.2087660e-01, -7.6506323e-01],\n",
       "        [ 2.7479815e-01, -7.4721479e-01],\n",
       "        [ 4.1397953e-01, -1.3803772e+00],\n",
       "        [ 1.4509619e+00, -3.2206300e-01],\n",
       "        [ 1.3724302e+00,  4.6592993e-01],\n",
       "        [ 3.6325037e-01, -4.2459279e-01],\n",
       "        [ 1.0026630e+00,  1.1535532e+00],\n",
       "        [ 7.5163585e-01, -4.1471553e-01],\n",
       "        [ 6.5096194e-01, -4.1340995e-01],\n",
       "        [ 6.7039508e-01,  7.0566660e-01],\n",
       "        [ 2.6839334e-01,  1.6817693e+00],\n",
       "        [ 6.6215241e-01,  1.4619976e+00],\n",
       "        [ 8.1855309e-01,  1.3257829e+00],\n",
       "        [ 5.4568404e-01, -4.1819763e-01],\n",
       "        [ 4.5275906e-01, -4.2157054e-01],\n",
       "        [ 3.9314517e-01, -4.2300364e-01],\n",
       "        [ 4.7992927e-01, -4.8400187e-01],\n",
       "        [ 5.8348715e-01, -5.0855869e-01],\n",
       "        [ 6.8483651e-01, -5.1116467e-01],\n",
       "        [ 7.8094792e-01, -4.9586901e-01],\n",
       "        [ 8.5191238e-01, -4.7141913e-01],\n",
       "        [ 1.4442613e+00, -5.9331214e-01],\n",
       "        [ 8.2359898e-01, -4.1862002e-01],\n",
       "        [ 1.1497276e+00,  9.8315930e-01],\n",
       "        [ 4.0345708e-01, -4.5133117e-01],\n",
       "        [ 4.8872948e-01,  1.5860125e+00],\n",
       "        [ 3.5141790e-01,  8.0288345e-01],\n",
       "        [ 4.0614754e-01,  9.2039227e-01],\n",
       "        [ 6.8664771e-01,  5.4778713e-01],\n",
       "        [ 6.2009519e-01,  5.7441467e-01],\n",
       "        [ 1.4364101e+00, -6.5957904e-02],\n",
       "        [ 8.9505500e-01, -4.5226029e-01],\n",
       "        [-6.7082989e-01, -4.4134545e-01],\n",
       "        [-5.3705657e-01, -4.4338593e-01],\n",
       "        [-6.7318863e-01, -5.3528816e-01],\n",
       "        [-8.0623317e-01, -4.3957856e-01],\n",
       "        [-6.6985983e-01, -3.4540436e-01],\n",
       "        [ 6.7215884e-01, -4.5590049e-01],\n",
       "        [ 8.0732340e-01, -4.5554185e-01],\n",
       "        [ 6.7453051e-01, -5.4830128e-01],\n",
       "        [ 5.3506148e-01, -4.5878521e-01],\n",
       "        [ 6.6418529e-01, -3.6425811e-01]]], dtype=float32)"
      ]
     },
     "execution_count": 9,
     "metadata": {},
     "output_type": "execute_result"
    }
   ],
   "source": [
    "outs[0]"
   ]
  },
  {
   "cell_type": "code",
   "execution_count": null,
   "id": "dcee49b1-c1af-4da8-af06-9025ba7f7e7c",
   "metadata": {},
   "outputs": [],
   "source": []
  }
 ],
 "metadata": {
  "kernelspec": {
   "display_name": "Python 3 (ipykernel)",
   "language": "python",
   "name": "python3"
  },
  "language_info": {
   "codemirror_mode": {
    "name": "ipython",
    "version": 3
   },
   "file_extension": ".py",
   "mimetype": "text/x-python",
   "name": "python",
   "nbconvert_exporter": "python",
   "pygments_lexer": "ipython3",
   "version": "3.9.18"
  }
 },
 "nbformat": 4,
 "nbformat_minor": 5
}
